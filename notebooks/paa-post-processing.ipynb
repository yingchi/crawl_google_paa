{
 "cells": [
  {
   "cell_type": "code",
   "execution_count": 5,
   "metadata": {},
   "outputs": [],
   "source": [
    "import numpy as np\n",
    "import pandas as pd\n",
    "import urllib"
   ]
  },
  {
   "cell_type": "code",
   "execution_count": 23,
   "metadata": {},
   "outputs": [
    {
     "name": "stdout",
     "output_type": "stream",
     "text": [
      "(3676, 6)\n",
      "(3676, 6)\n",
      "(3676, 6)\n"
     ]
    }
   ],
   "source": [
    "TITLES = ['firefighter', 'substitute teacher', 'dental hygienist', 'teacher', 'licensed practical nurse',\n",
    "          'dental assistant', 'nursing assistant', 'surgical technician']\n",
    "TITLE = TITLES[0]\n",
    "\n",
    "df_paa = pd.read_csv('../output/paa_{}.csv'.format(TITLE.replace(\" \", \"_\")))\n",
    "df_paa.columns = ['orig_query', 'query', 'rank', 'question', 'answer', 'link']\n",
    "print(df_paa.shape)\n",
    "df_paa = df_paa.dropna(subset=['query', 'question', 'answer'])\n",
    "print(df_paa.shape)\n",
    "df_paa = df_paa[df_paa.apply(lambda x: \"{\" not in x['query'], axis=1)]\n",
    "print(df_paa.shape)"
   ]
  },
  {
   "cell_type": "code",
   "execution_count": 25,
   "metadata": {
    "scrolled": false
   },
   "outputs": [
    {
     "data": {
      "text/html": [
       "<div>\n",
       "<style scoped>\n",
       "    .dataframe tbody tr th:only-of-type {\n",
       "        vertical-align: middle;\n",
       "    }\n",
       "\n",
       "    .dataframe tbody tr th {\n",
       "        vertical-align: top;\n",
       "    }\n",
       "\n",
       "    .dataframe thead th {\n",
       "        text-align: right;\n",
       "    }\n",
       "</style>\n",
       "<table border=\"1\" class=\"dataframe\">\n",
       "  <thead>\n",
       "    <tr style=\"text-align: right;\">\n",
       "      <th></th>\n",
       "      <th>question</th>\n",
       "      <th>link</th>\n",
       "      <th>answer</th>\n",
       "      <th>query_set</th>\n",
       "      <th>rank_sum</th>\n",
       "      <th>appear_count</th>\n",
       "    </tr>\n",
       "  </thead>\n",
       "  <tbody>\n",
       "    <tr>\n",
       "      <th>0</th>\n",
       "      <td>What is the highest paying state for firefighters?</td>\n",
       "      <td>https://www.forbes.com/sites/andrewdepietro/2019/03/31/firefighters-salary-state/</td>\n",
       "      <td>{10 States Where Firefighters Earn the Most Money Rank State 2017 Mean Annual Wage 1 New Jersey $75,880 2 California $73,860 3 New York $70,560 4 Washington $70,300 6 more rows}</td>\n",
       "      <td>{how much does working as a firefighter pay annually, What is the monthly income for a firefighter?, average firefighter salary, What fire department pays the most?, firefighter monthly wage, fire...</td>\n",
       "      <td>86.666667</td>\n",
       "      <td>159</td>\n",
       "    </tr>\n",
       "    <tr>\n",
       "      <th>1</th>\n",
       "      <td>Can you live off a firefighter salary?</td>\n",
       "      <td>https://moneynation.com/firefighter-salary/</td>\n",
       "      <td>{Even on the typical firefighter salary of $45,970 a year, it's possible to save $4.4 million. Some firefighters use pension spiking to boost their retirement income. They log high overtime hours ...</td>\n",
       "      <td>{how much firefighter make, how much firefighter make a week, how much can a firefighter make, how much does a firefighter earn yearly, average firefighter salary per week, how much firefighter ge...</td>\n",
       "      <td>42.333333</td>\n",
       "      <td>114</td>\n",
       "    </tr>\n",
       "  </tbody>\n",
       "</table>\n",
       "</div>"
      ],
      "text/plain": [
       "                                             question  \\\n",
       "0  What is the highest paying state for firefighters?   \n",
       "1              Can you live off a firefighter salary?   \n",
       "\n",
       "                                                                                link  \\\n",
       "0  https://www.forbes.com/sites/andrewdepietro/2019/03/31/firefighters-salary-state/   \n",
       "1                                        https://moneynation.com/firefighter-salary/   \n",
       "\n",
       "                                                                                                                                                                                                    answer  \\\n",
       "0                        {10 States Where Firefighters Earn the Most Money Rank State 2017 Mean Annual Wage 1 New Jersey $75,880 2 California $73,860 3 New York $70,560 4 Washington $70,300 6 more rows}   \n",
       "1  {Even on the typical firefighter salary of $45,970 a year, it's possible to save $4.4 million. Some firefighters use pension spiking to boost their retirement income. They log high overtime hours ...   \n",
       "\n",
       "                                                                                                                                                                                                 query_set  \\\n",
       "0  {how much does working as a firefighter pay annually, What is the monthly income for a firefighter?, average firefighter salary, What fire department pays the most?, firefighter monthly wage, fire...   \n",
       "1  {how much firefighter make, how much firefighter make a week, how much can a firefighter make, how much does a firefighter earn yearly, average firefighter salary per week, how much firefighter ge...   \n",
       "\n",
       "    rank_sum  appear_count  \n",
       "0  86.666667           159  \n",
       "1  42.333333           114  "
      ]
     },
     "execution_count": 25,
     "metadata": {},
     "output_type": "execute_result"
    }
   ],
   "source": [
    "df_paa['rank'] = (np.max(df_paa['rank'])-df_paa['rank'])/(np.max(df_paa['rank'])-np.min(df_paa['rank']))\n",
    "df_group = df_paa.groupby(['question', 'link']).agg({'answer':set, 'query':set, 'rank':[sum,\"count\"]}).reset_index()\n",
    "df_group.columns = ['question', 'link','answer', 'query_set', 'rank_sum', 'appear_count']\n",
    "df_group = df_group.sort_values(by=['appear_count', 'rank_sum'], ascending=False).reset_index(drop=True)\n",
    "pd.set_option('display.max_colwidth', 200)\n",
    "df_group.head(2)"
   ]
  },
  {
   "cell_type": "code",
   "execution_count": 26,
   "metadata": {},
   "outputs": [
    {
     "data": {
      "text/html": [
       "<div>\n",
       "<style scoped>\n",
       "    .dataframe tbody tr th:only-of-type {\n",
       "        vertical-align: middle;\n",
       "    }\n",
       "\n",
       "    .dataframe tbody tr th {\n",
       "        vertical-align: top;\n",
       "    }\n",
       "\n",
       "    .dataframe thead th {\n",
       "        text-align: right;\n",
       "    }\n",
       "</style>\n",
       "<table border=\"1\" class=\"dataframe\">\n",
       "  <thead>\n",
       "    <tr style=\"text-align: right;\">\n",
       "      <th></th>\n",
       "      <th>topic</th>\n",
       "      <th>question</th>\n",
       "      <th>rank</th>\n",
       "      <th>answer</th>\n",
       "    </tr>\n",
       "  </thead>\n",
       "  <tbody>\n",
       "    <tr>\n",
       "      <th>0</th>\n",
       "      <td></td>\n",
       "      <td>What is the highest paying state for firefighters?</td>\n",
       "      <td>0</td>\n",
       "      <td>10 States Where Firefighters Earn the Most Money Rank State 2017 Mean Annual Wage 1 New Jersey $75,880 2 California $73,860 3 New York $70,560 4 Washington $70,300 6 more rows https://www.forbes.c...</td>\n",
       "    </tr>\n",
       "    <tr>\n",
       "      <th>1</th>\n",
       "      <td></td>\n",
       "      <td>Can you live off a firefighter salary?</td>\n",
       "      <td>1</td>\n",
       "      <td>Even on the typical firefighter salary of $45,970 a year, it's possible to save $4.4 million. Some firefighters use pension spiking to boost their retirement income. They log high overtime hours i...</td>\n",
       "    </tr>\n",
       "    <tr>\n",
       "      <th>2</th>\n",
       "      <td></td>\n",
       "      <td>Is firefighter a good career?</td>\n",
       "      <td>2</td>\n",
       "      <td>A firefighter is the absolute best profession. The ability to help others and have fun while doing it is priceless. Working in a great station with a great crew cannot be beat. Delivering a servic...</td>\n",
       "    </tr>\n",
       "    <tr>\n",
       "      <th>3</th>\n",
       "      <td></td>\n",
       "      <td>Is it worth becoming a firefighter?</td>\n",
       "      <td>3</td>\n",
       "      <td>You are different than every other person out there trying to become a firefighter. It is my belief that for some it is, and for others it may not be, worth pursuing firefighting. Major factors yo...</td>\n",
       "    </tr>\n",
       "    <tr>\n",
       "      <th>4</th>\n",
       "      <td></td>\n",
       "      <td>Do firefighters get paid weekly?</td>\n",
       "      <td>4</td>\n",
       "      <td>Firefighters: Under the CBA, the firefighters work on a 21-day, 168-hour pay schedule. They receive two different types of paychecks. One type of paycheck is received bi-weekly and is intended to ...</td>\n",
       "    </tr>\n",
       "  </tbody>\n",
       "</table>\n",
       "</div>"
      ],
      "text/plain": [
       "  topic                                            question  rank  \\\n",
       "0        What is the highest paying state for firefighters?     0   \n",
       "1                    Can you live off a firefighter salary?     1   \n",
       "2                             Is firefighter a good career?     2   \n",
       "3                       Is it worth becoming a firefighter?     3   \n",
       "4                          Do firefighters get paid weekly?     4   \n",
       "\n",
       "                                                                                                                                                                                                    answer  \n",
       "0  10 States Where Firefighters Earn the Most Money Rank State 2017 Mean Annual Wage 1 New Jersey $75,880 2 California $73,860 3 New York $70,560 4 Washington $70,300 6 more rows https://www.forbes.c...  \n",
       "1  Even on the typical firefighter salary of $45,970 a year, it's possible to save $4.4 million. Some firefighters use pension spiking to boost their retirement income. They log high overtime hours i...  \n",
       "2  A firefighter is the absolute best profession. The ability to help others and have fun while doing it is priceless. Working in a great station with a great crew cannot be beat. Delivering a servic...  \n",
       "3  You are different than every other person out there trying to become a firefighter. It is my belief that for some it is, and for others it may not be, worth pursuing firefighting. Major factors yo...  \n",
       "4  Firefighters: Under the CBA, the firefighters work on a 21-day, 168-hour pay schedule. They receive two different types of paychecks. One type of paycheck is received bi-weekly and is intended to ...  "
      ]
     },
     "execution_count": 26,
     "metadata": {},
     "output_type": "execute_result"
    }
   ],
   "source": [
    "df_qna = df_group.copy()\n",
    "df_qna['rank'] = df_qna.index\n",
    "df_qna['topic'] = \"\"\n",
    "df_qna['answer'] = df_qna.apply(lambda x: list(x['answer'])[0]+\" \"+str(x['link']), axis=1)\n",
    "df_qna = df_qna[['topic', 'question', 'rank', 'answer']]\n",
    "df_qna.head()"
   ]
  },
  {
   "cell_type": "code",
   "execution_count": 7,
   "metadata": {},
   "outputs": [],
   "source": [
    "file_qna = '../output/qna_{}.csv'.format(urllib.parse.quote_plus(TITLE))\n",
    "df_qna.to_csv(file_qna, index=False)"
   ]
  },
  {
   "cell_type": "markdown",
   "metadata": {},
   "source": [
    "### Batch run"
   ]
  },
  {
   "cell_type": "code",
   "execution_count": 31,
   "metadata": {},
   "outputs": [],
   "source": [
    "TITLES = ['firefighter', 'substitute teacher', 'dental hygienist', 'teacher', 'licensed practical nurse',\n",
    "          'dental assistant', 'nursing assistant', 'surgical technician']\n",
    "\n",
    "# TITLES = [\"teacher\", \"project manager\", \"business analyst\", \"accountant\", \"administrative assistant\", \"product manager\"]\n",
    "\n",
    "\n",
    "for TITLE in TITLES[-1:]:\n",
    "    df_paa = pd.read_csv('../output/paa_{}.csv'.format(TITLE.replace(\" \", \"_\")))\n",
    "    df_paa.columns = ['orig_query', 'query', 'rank', 'question', 'answer', 'link']\n",
    "    df_paa = df_paa.dropna(subset=['query', 'question', 'answer'])\n",
    "    df_paa = df_paa[df_paa.apply(lambda x: \"{\" not in x['query'], axis=1)]\n",
    "    df_paa['rank'] = (np.max(df_paa['rank'])-df_paa['rank'])/(np.max(df_paa['rank'])-np.min(df_paa['rank']))\n",
    "    df_group = df_paa.groupby(['question', 'link']).agg({'answer':set, 'query':set, 'rank':[sum,\"count\"]}).reset_index()\n",
    "    df_group.columns = ['question', 'link','answer', 'query_set', 'rank_sum', 'appear_count']\n",
    "    df_group = df_group.sort_values(by=['appear_count', 'rank_sum'], ascending=False).reset_index(drop=True)\n",
    "    df_group.to_csv('../output/ranked_{}.csv'.format(TITLE.replace(\" \", \"_\")), index=False)\n",
    "    df_qna = df_group.copy()\n",
    "    df_qna['rank'] = df_qna.index\n",
    "    df_qna['topic'] = \"\"\n",
    "    df_qna['answer'] = df_qna.apply(lambda x: list(x['answer'])[0]+\" \"+str(x['link']), axis=1)\n",
    "    df_qna = df_qna[['topic', 'question', 'rank', 'answer']]\n",
    "    file_qna = '../output/qna_{}.csv'.format(urllib.parse.quote_plus(TITLE))\n",
    "    df_qna.to_csv(file_qna, index=False)"
   ]
  },
  {
   "cell_type": "code",
   "execution_count": null,
   "metadata": {},
   "outputs": [],
   "source": []
  }
 ],
 "metadata": {
  "kernelspec": {
   "display_name": "da-base",
   "language": "python",
   "name": "da-base"
  },
  "language_info": {
   "codemirror_mode": {
    "name": "ipython",
    "version": 3
   },
   "file_extension": ".py",
   "mimetype": "text/x-python",
   "name": "python",
   "nbconvert_exporter": "python",
   "pygments_lexer": "ipython3",
   "version": "3.7.0"
  },
  "toc": {
   "base_numbering": 1,
   "nav_menu": {},
   "number_sections": true,
   "sideBar": true,
   "skip_h1_title": false,
   "title_cell": "Table of Contents",
   "title_sidebar": "Contents",
   "toc_cell": false,
   "toc_position": {},
   "toc_section_display": true,
   "toc_window_display": false
  }
 },
 "nbformat": 4,
 "nbformat_minor": 2
}
