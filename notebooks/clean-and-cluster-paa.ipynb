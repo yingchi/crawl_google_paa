{
 "cells": [
  {
   "cell_type": "code",
   "execution_count": 1,
   "metadata": {},
   "outputs": [],
   "source": [
    "import pandas as pd\n",
    "import numpy as np"
   ]
  },
  {
   "cell_type": "code",
   "execution_count": 9,
   "metadata": {},
   "outputs": [],
   "source": [
    "title = 'rsa'\n",
    "input_file = '../output/paa/{}_paa_results.csv'.format(title)\n",
    "output_file = '../output/paa/{}_paa_output.csv'.format(title)\n",
    "answer_file = '../output/paa/{}_answers.txt'.format(title)\n",
    "\n",
    "df = pd.read_csv(input_file)"
   ]
  },
  {
   "cell_type": "markdown",
   "metadata": {},
   "source": [
    "## Clean up the answer text (skip this if already cleaned during crawling process script)"
   ]
  },
  {
   "cell_type": "code",
   "execution_count": 10,
   "metadata": {},
   "outputs": [
    {
     "data": {
      "text/html": [
       "<div>\n",
       "<style scoped>\n",
       "    .dataframe tbody tr th:only-of-type {\n",
       "        vertical-align: middle;\n",
       "    }\n",
       "\n",
       "    .dataframe tbody tr th {\n",
       "        vertical-align: top;\n",
       "    }\n",
       "\n",
       "    .dataframe thead th {\n",
       "        text-align: right;\n",
       "    }\n",
       "</style>\n",
       "<table border=\"1\" class=\"dataframe\">\n",
       "  <thead>\n",
       "    <tr style=\"text-align: right;\">\n",
       "      <th></th>\n",
       "      <th>job_title</th>\n",
       "      <th>rank</th>\n",
       "      <th>question</th>\n",
       "      <th>answer</th>\n",
       "      <th>link</th>\n",
       "    </tr>\n",
       "  </thead>\n",
       "  <tbody>\n",
       "    <tr>\n",
       "      <th>0</th>\n",
       "      <td>retail sales associate</td>\n",
       "      <td>0</td>\n",
       "      <td>What are the duties of a retail sales associate?</td>\n",
       "      <td>Sales Associate Responsibilities: Greeting customers, responding to questions, improving engagement with merchandise and providing outstanding customer service. Operating cash registers, managing financial transactions, and balancing drawers. Achieving established goals.</td>\n",
       "      <td>https://www.betterteam.com/sales-associate-job-description</td>\n",
       "    </tr>\n",
       "    <tr>\n",
       "      <th>1</th>\n",
       "      <td>retail sales associate</td>\n",
       "      <td>1</td>\n",
       "      <td>What is the average hourly wage for a retail sales associate?</td>\n",
       "      <td>A Retail Sales Associate is typically paid an average hourly wage of around 11.15 per hour.</td>\n",
       "      <td>https://www.careerbuilder.com/insights/retail-sales-associate</td>\n",
       "    </tr>\n",
       "    <tr>\n",
       "      <th>2</th>\n",
       "      <td>retail sales associate</td>\n",
       "      <td>2</td>\n",
       "      <td>How old do you have to be to be a retail sales associate?</td>\n",
       "      <td>16 Years Old</td>\n",
       "      <td>https://www.snagajob.com/search/q-sales+associate+minimum+age+16+years+old</td>\n",
       "    </tr>\n",
       "    <tr>\n",
       "      <th>3</th>\n",
       "      <td>retail sales associate</td>\n",
       "      <td>3</td>\n",
       "      <td>What employers look for in a sales associate?</td>\n",
       "      <td>7 Top Traits Employers Look For In A Sales Candidate Communication skills. Strong communication is the one common trait at the top of any employer's wish list for a potential sales employee. Technological skills. Responsible driver. Passion for learning. Fun. Team player. Hip.</td>\n",
       "      <td>https://talentegg.ca/incubator/2013/10/22/top-traits-employers-look-for-in-a-sales-candidate/</td>\n",
       "    </tr>\n",
       "    <tr>\n",
       "      <th>4</th>\n",
       "      <td>retail sales associate</td>\n",
       "      <td>4</td>\n",
       "      <td>What does a retail associate do?</td>\n",
       "      <td>They provide a variety of services, from helping you pick out items to ringing up your purchases. Like cashiers, retail sales associates use cash registers to process transactions and are responsible for keeping track of all the money inside.</td>\n",
       "      <td>https://m.snagajob.com/job-descriptions/retail-associate/</td>\n",
       "    </tr>\n",
       "  </tbody>\n",
       "</table>\n",
       "</div>"
      ],
      "text/plain": [
       "                job_title  rank  \\\n",
       "0  retail sales associate  0      \n",
       "1  retail sales associate  1      \n",
       "2  retail sales associate  2      \n",
       "3  retail sales associate  3      \n",
       "4  retail sales associate  4      \n",
       "\n",
       "                                                        question  \\\n",
       "0  What are the duties of a retail sales associate?                \n",
       "1  What is the average hourly wage for a retail sales associate?   \n",
       "2  How old do you have to be to be a retail sales associate?       \n",
       "3  What employers look for in a sales associate?                   \n",
       "4  What does a retail associate do?                                \n",
       "\n",
       "                                                                                                                                                                                                                                                                                   answer  \\\n",
       "0  Sales Associate Responsibilities: Greeting customers, responding to questions, improving engagement with merchandise and providing outstanding customer service. Operating cash registers, managing financial transactions, and balancing drawers. Achieving established goals.          \n",
       "1  A Retail Sales Associate is typically paid an average hourly wage of around 11.15 per hour.                                                                                                                                                                                              \n",
       "2  16 Years Old                                                                                                                                                                                                                                                                             \n",
       "3  7 Top Traits Employers Look For In A Sales Candidate Communication skills. Strong communication is the one common trait at the top of any employer's wish list for a potential sales employee. Technological skills. Responsible driver. Passion for learning. Fun. Team player. Hip.    \n",
       "4  They provide a variety of services, from helping you pick out items to ringing up your purchases. Like cashiers, retail sales associates use cash registers to process transactions and are responsible for keeping track of all the money inside.                                       \n",
       "\n",
       "                                                                                            link  \n",
       "0  https://www.betterteam.com/sales-associate-job-description                                     \n",
       "1  https://www.careerbuilder.com/insights/retail-sales-associate                                  \n",
       "2  https://www.snagajob.com/search/q-sales+associate+minimum+age+16+years+old                     \n",
       "3  https://talentegg.ca/incubator/2013/10/22/top-traits-employers-look-for-in-a-sales-candidate/  \n",
       "4  https://m.snagajob.com/job-descriptions/retail-associate/                                      "
      ]
     },
     "execution_count": 10,
     "metadata": {},
     "output_type": "execute_result"
    }
   ],
   "source": [
    "df['answer'] = df['answer'].str.replace('\\n', ' ', regex=True) \\\n",
    "        .replace('[\\.][\\.][\\.]', '', regex=True) \\\n",
    "        .replace('[a-zA-Z]{3} [0-9]{1,2}, [0-9]{4}', '', regex=True) \\\n",
    "        .replace('More items', '', regex=True) \\\n",
    "        .replace('\\s+', ' ', regex=True) \\\n",
    "        .replace('[^a-zA-Z0-9.,:?\\s\\-\\'\\(\\)]', '', regex=True)\n",
    "\n",
    "df['answer'] = df['answer'].str.strip('\"')\n",
    "df['answer'] = df['answer'].str.strip('”')\n",
    "pd.set_option('display.max_colwidth', -1)\n",
    "df.head()"
   ]
  },
  {
   "cell_type": "code",
   "execution_count": 11,
   "metadata": {},
   "outputs": [],
   "source": [
    "df.to_csv(output_file, index=False)\n",
    "np.savetxt(answer_file, df['answer'].values, fmt='%s')\n",
    "# df[['answer']].to_csv(output_file, index=False, header=None)"
   ]
  },
  {
   "cell_type": "markdown",
   "metadata": {},
   "source": [
    "## Investigate on different clustering approaches"
   ]
  },
  {
   "cell_type": "markdown",
   "metadata": {},
   "source": [
    "### tfidf and kmeans"
   ]
  },
  {
   "cell_type": "code",
   "execution_count": 11,
   "metadata": {
    "code_folding": [
     11,
     24
    ]
   },
   "outputs": [],
   "source": [
    "import string\n",
    "import collections\n",
    " \n",
    "from nltk import word_tokenize\n",
    "from nltk.stem import PorterStemmer\n",
    "from nltk.corpus import stopwords\n",
    "from sklearn.cluster import KMeans\n",
    "from sklearn.feature_extraction.text import TfidfVectorizer\n",
    "from pprint import pprint\n",
    "\n",
    "\n",
    "def process_text(text, stem=True):\n",
    "    text = text.translate(str.maketrans('', '', string.punctuation))\n",
    "    tokens = word_tokenize(text)\n",
    "    stop_words=set(stopwords.words('english'))\n",
    "    \n",
    "    tokens = [x for x in tokens if x not in stop_words]\n",
    "    \n",
    "    if stem:\n",
    "        stemmer = PorterStemmer()\n",
    "        tokens = [stemmer.stem(t) for t in tokens]\n",
    "        \n",
    "    return tokens\n",
    "\n",
    "def cluster_text(texts=None,  vectors=None, clusters=3):\n",
    "    if vectors is None:  ## Todo, note down this trick\n",
    "        vectorizer = TfidfVectorizer(tokenizer=process_text,\n",
    "                                     max_df=0.5,\n",
    "                                     min_df=0.1,\n",
    "                                     lowercase=True)\n",
    "        vectors = vectorizer.fit_transform(texts)\n",
    "    km_model = KMeans(n_clusters=clusters)\n",
    "    km_model.fit(vectors)\n",
    " \n",
    "    clustering = collections.defaultdict(list)\n",
    " \n",
    "    for idx, label in enumerate(km_model.labels_):\n",
    "        clustering[label].append(idx)\n",
    " \n",
    "    return clustering"
   ]
  },
  {
   "cell_type": "code",
   "execution_count": 12,
   "metadata": {
    "scrolled": false
   },
   "outputs": [
    {
     "name": "stdout",
     "output_type": "stream",
     "text": [
      "Group 0\n",
      "5   How can I be a good customer service representative?\n",
      "6   How would you describe good customer service?       \n",
      "10  What makes a good customer experience?              \n",
      "25  How can I be a good customer service agent?         \n",
      "29  How do you deliver good customer service examples?  \n",
      "====================\n",
      "Group 1\n",
      "8   What does a customer service representative do?                  \n",
      "16  What are the benefits of being a customer service representative?\n",
      "17  What do you need to be a customer service representative?        \n",
      "23  How can I succeed as a customer service representative?          \n",
      "====================\n",
      "Group 2\n",
      "3   Is customer service a good job?                              \n",
      "9   Is customer support a good job?                              \n",
      "11  What are the job duties of a customer service representative?\n",
      "14  What is a customer service job?                              \n",
      "====================\n",
      "Group 3\n",
      "7   What does customer service mean to you best answer?\n",
      "27  What does customer service mean to you answer?     \n",
      "28  What is a good customer service answer?            \n",
      "====================\n",
      "Group 4\n",
      "4   What are the three most important characteristics of customer service and why?    \n",
      "19  What's the most important characteristic of a good customer support interaction *?\n",
      "20  What are the characteristics and benefits of excellent customer service?          \n",
      "====================\n",
      "Group 5\n",
      "2   What are the duties of a call center representative?\n",
      "12  What is call center agent job description?          \n",
      "13  What does an inbound call center representative do? \n",
      "====================\n",
      "Group 6\n",
      "0   What are the qualities of a good customer service representative?\n",
      "22  What are the qualities of a good customer service representative?\n",
      "====================\n",
      "Group 7\n",
      "1   Why do you want to be a customer service representative?\n",
      "15  Why do I want a customer service job?                   \n",
      "24  Why do I want to be a customer service representative?  \n",
      "====================\n",
      "Group 8\n",
      "18  What are 3 important qualities of customer service?   \n",
      "21  What is the most important aspect in customer service?\n",
      "====================\n",
      "Group 9\n",
      "26  How would you describe customer service?\n",
      "====================\n"
     ]
    }
   ],
   "source": [
    "questions = list(df['question'])\n",
    "clusters_tfidf_kmeans = cluster_text(texts=questions,clusters=10)\n",
    "# pprint(dict(clusters_tfidf_kmeans))\n",
    "for i in range(len(clusters_tfidf_kmeans)):\n",
    "    print(\"Group\", i)\n",
    "    print(df.loc[clusters_tfidf_kmeans[i], ['question']].to_string(header=False))\n",
    "    print(\"====================\")"
   ]
  },
  {
   "cell_type": "markdown",
   "metadata": {},
   "source": [
    "### word2vec and kmeans"
   ]
  },
  {
   "cell_type": "markdown",
   "metadata": {},
   "source": [
    "#### Use self-trained word2vec model"
   ]
  },
  {
   "cell_type": "code",
   "execution_count": 13,
   "metadata": {
    "code_folding": []
   },
   "outputs": [
    {
     "name": "stdout",
     "output_type": "stream",
     "text": [
      "Group 0\n",
      "3  Is customer service a good job?\n",
      "9  Is customer support a good job?\n",
      "====================\n",
      "Group 1\n",
      "8   What does a customer service representative do?                  \n",
      "11  What are the job duties of a customer service representative?    \n",
      "14  What is a customer service job?                                  \n",
      "16  What are the benefits of being a customer service representative?\n",
      "17  What do you need to be a customer service representative?        \n",
      "====================\n",
      "Group 2\n",
      "5   How can I be a good customer service representative?   \n",
      "23  How can I succeed as a customer service representative?\n",
      "25  How can I be a good customer service agent?            \n",
      "====================\n",
      "Group 3\n",
      "7   What does customer service mean to you best answer?\n",
      "27  What does customer service mean to you answer?     \n",
      "28  What is a good customer service answer?            \n",
      "====================\n",
      "Group 4\n",
      "2   What are the duties of a call center representative?\n",
      "12  What is call center agent job description?          \n",
      "13  What does an inbound call center representative do? \n",
      "====================\n",
      "Group 5\n",
      "0   What are the qualities of a good customer service representative?\n",
      "10  What makes a good customer experience?                           \n",
      "18  What are 3 important qualities of customer service?              \n",
      "22  What are the qualities of a good customer service representative?\n",
      "====================\n",
      "Group 6\n",
      "1   Why do you want to be a customer service representative?\n",
      "15  Why do I want a customer service job?                   \n",
      "24  Why do I want to be a customer service representative?  \n",
      "====================\n",
      "Group 7\n",
      "4   What are the three most important characteristics of customer service and why?\n",
      "20  What are the characteristics and benefits of excellent customer service?      \n",
      "21  What is the most important aspect in customer service?                        \n",
      "====================\n",
      "Group 8\n",
      "19  What's the most important characteristic of a good customer support interaction *?\n",
      "====================\n",
      "Group 9\n",
      "6   How would you describe good customer service?     \n",
      "26  How would you describe customer service?          \n",
      "29  How do you deliver good customer service examples?\n",
      "====================\n"
     ]
    }
   ],
   "source": [
    "from gensim.models import Word2Vec\n",
    "\n",
    "questions_tokens = [process_text(x) for x in questions]\n",
    "model = Word2Vec(questions_tokens, min_count=1)\n",
    "# one extra step for moving from word level to sentence level.\n",
    "def sent_vectorizer(sent, model):\n",
    "    sent_vec = []\n",
    "    numw = 0\n",
    "    for w in sent:\n",
    "        try:\n",
    "            if numw == 0:\n",
    "                sent_vec = model.wv[w]\n",
    "            else:\n",
    "                sent_vec = np.add(sent_vec, model.wv[w])\n",
    "            numw += 1\n",
    "        except:\n",
    "            pass\n",
    "    return np.asarray(sent_vec) / numw\n",
    "\n",
    "X_w2v = []\n",
    "for q in questions_tokens:\n",
    "    X_w2v.append(sent_vectorizer(q, model))\n",
    "clusters_w2v_kmeans = cluster_text(vectors=X_w2v,clusters=10)\n",
    "# pprint(dict(clusters_w2v_kmeans))\n",
    "\n",
    "for i in range(len(clusters_w2v_kmeans)):\n",
    "    print(\"Group\", i)\n",
    "    print(df.loc[clusters_w2v_kmeans[i], ['question']].to_string(header=False))\n",
    "    print(\"====================\")"
   ]
  },
  {
   "cell_type": "markdown",
   "metadata": {
    "heading_collapsed": true
   },
   "source": [
    "#### Leverage on pre-trained embeddings"
   ]
  },
  {
   "cell_type": "code",
   "execution_count": 14,
   "metadata": {
    "hidden": true
   },
   "outputs": [],
   "source": [
    "import spacy\n",
    "# Load the spacy model that you have installed\n",
    "# python -m spacy download en_core_web_md  <-- need to run this command once\n",
    "nlp = spacy.load('en_core_web_md')\n",
    "# process a sentence using the model\n",
    "X_w2v_pre = [nlp(qn).vector for qn in questions]\n",
    "clusters_w2v_kmeans_pre = cluster_text(vectors=X_w2v_pre,clusters=10)\n",
    "# pprint(dict(clusters_w2v_kmeans_pre))"
   ]
  },
  {
   "cell_type": "code",
   "execution_count": 15,
   "metadata": {
    "code_folding": [],
    "hidden": true
   },
   "outputs": [
    {
     "name": "stdout",
     "output_type": "stream",
     "text": [
      "Group 0\n",
      "1   Why do you want to be a customer service representative? \n",
      "5   How can I be a good customer service representative?     \n",
      "8   What does a customer service representative do?          \n",
      "15  Why do I want a customer service job?                    \n",
      "17  What do you need to be a customer service representative?\n",
      "23  How can I succeed as a customer service representative?  \n",
      "24  Why do I want to be a customer service representative?   \n",
      "25  How can I be a good customer service agent?              \n",
      "====================\n",
      "Group 1\n",
      "19  What's the most important characteristic of a good customer support interaction *?\n",
      "21  What is the most important aspect in customer service?                            \n",
      "====================\n",
      "Group 2\n",
      "3   Is customer service a good job?        \n",
      "9   Is customer support a good job?        \n",
      "14  What is a customer service job?        \n",
      "28  What is a good customer service answer?\n",
      "====================\n",
      "Group 3\n",
      "0   What are the qualities of a good customer service representative?\n",
      "11  What are the job duties of a customer service representative?    \n",
      "16  What are the benefits of being a customer service representative?\n",
      "22  What are the qualities of a good customer service representative?\n",
      "====================\n",
      "Group 4\n",
      "4   What are the three most important characteristics of customer service and why?\n",
      "18  What are 3 important qualities of customer service?                           \n",
      "20  What are the characteristics and benefits of excellent customer service?      \n",
      "====================\n",
      "Group 5\n",
      "6   How would you describe good customer service?      \n",
      "7   What does customer service mean to you best answer?\n",
      "26  How would you describe customer service?           \n",
      "27  What does customer service mean to you answer?     \n",
      "29  How do you deliver good customer service examples? \n",
      "====================\n",
      "Group 6\n",
      "12  What is call center agent job description?\n",
      "====================\n",
      "Group 7\n",
      "10  What makes a good customer experience?\n",
      "====================\n",
      "Group 8\n",
      "13  What does an inbound call center representative do?\n",
      "====================\n",
      "Group 9\n",
      "2  What are the duties of a call center representative?\n",
      "====================\n"
     ]
    }
   ],
   "source": [
    "for i in range(len(clusters_w2v_kmeans_pre)):\n",
    "    print(\"Group\", i)\n",
    "    print(df.loc[clusters_w2v_kmeans_pre[i], ['question']].to_string(header=False))\n",
    "    print(\"====================\")"
   ]
  },
  {
   "cell_type": "markdown",
   "metadata": {
    "heading_collapsed": true
   },
   "source": [
    "### Other clustering attempts"
   ]
  },
  {
   "cell_type": "code",
   "execution_count": 16,
   "metadata": {
    "code_folding": [],
    "hidden": true
   },
   "outputs": [],
   "source": [
    "# reference: http://brandonrose.org/clustering#Hierarchical-document-clustering\n",
    "from scipy.cluster.hierarchy import ward, dendrogram\n",
    "from sklearn.metrics.pairwise import cosine_similarity\n",
    "import matplotlib.pyplot as plt\n",
    "from sklearn.cluster import AgglomerativeClustering\n",
    "\n",
    "\n",
    "def plot_dendrogram(mat, outfile):\n",
    "    fig, ax = plt.subplots(figsize=(15, 20)) # set size\n",
    "    ax = dendrogram(linkage_matrix, orientation=\"right\", labels=list(questions));\n",
    "\n",
    "    plt.tick_params(\\\n",
    "        axis= 'x',          # changes apply to the x-axis\n",
    "        which='both',      # both major and minor ticks are affected\n",
    "        bottom='off',      # ticks along the bottom edge are off\n",
    "        top='off',         # ticks along the top edge are off\n",
    "        labelbottom='off')\n",
    "\n",
    "    plt.tight_layout() #show plot with tight layout\n",
    "\n",
    "    #uncomment below to save figure\n",
    "    plt.savefig(outfile, dpi=200) #save figure as ward_clusters"
   ]
  },
  {
   "cell_type": "code",
   "execution_count": 17,
   "metadata": {
    "hidden": true
   },
   "outputs": [
    {
     "data": {
      "image/png": "[encoded data removed]",
      "text/plain": [
       "<Figure size 1080x1440 with 1 Axes>"
      ]
     },
     "metadata": {
      "needs_background": "light"
     },
     "output_type": "display_data"
    }
   ],
   "source": [
    "dist = 1 - cosine_similarity(X_w2v)\n",
    "linkage_matrix = ward(dist) #define the linkage_matrix using ward clustering pre-computed distances\n",
    "plot_dendrogram(linkage_matrix, 'ward_clusters.png')"
   ]
  },
  {
   "cell_type": "code",
   "execution_count": 18,
   "metadata": {
    "hidden": true
   },
   "outputs": [
    {
     "name": "stdout",
     "output_type": "stream",
     "text": [
      "Group 0\n",
      "6   How would you describe good customer service?     \n",
      "26  How would you describe customer service?          \n",
      "29  How do you deliver good customer service examples?\n",
      "====================\n",
      "Group 1\n",
      "2   What are the duties of a call center representative?\n",
      "12  What is call center agent job description?          \n",
      "13  What does an inbound call center representative do? \n",
      "====================\n",
      "Group 2\n",
      "8   What does a customer service representative do?                  \n",
      "11  What are the job duties of a customer service representative?    \n",
      "14  What is a customer service job?                                  \n",
      "16  What are the benefits of being a customer service representative?\n",
      "17  What do you need to be a customer service representative?        \n",
      "====================\n",
      "Group 3\n",
      "0   What are the qualities of a good customer service representative?\n",
      "10  What makes a good customer experience?                           \n",
      "22  What are the qualities of a good customer service representative?\n",
      "====================\n",
      "Group 4\n",
      "4   What are the three most important characteristics of customer service and why?\n",
      "18  What are 3 important qualities of customer service?                           \n",
      "20  What are the characteristics and benefits of excellent customer service?      \n",
      "21  What is the most important aspect in customer service?                        \n",
      "====================\n",
      "Group 5\n",
      "1   Why do you want to be a customer service representative?\n",
      "15  Why do I want a customer service job?                   \n",
      "24  Why do I want to be a customer service representative?  \n",
      "====================\n",
      "Group 6\n",
      "3  Is customer service a good job?\n",
      "9  Is customer support a good job?\n",
      "====================\n",
      "Group 7\n",
      "7   What does customer service mean to you best answer?\n",
      "27  What does customer service mean to you answer?     \n",
      "28  What is a good customer service answer?            \n",
      "====================\n",
      "Group 8\n",
      "5   How can I be a good customer service representative?   \n",
      "23  How can I succeed as a customer service representative?\n",
      "25  How can I be a good customer service agent?            \n",
      "====================\n",
      "Group 9\n",
      "19  What's the most important characteristic of a good customer support interaction *?\n",
      "====================\n"
     ]
    }
   ],
   "source": [
    "model = AgglomerativeClustering(n_clusters=10, affinity='euclidean', linkage='ward')  \n",
    "model.fit_predict(X_w2v)\n",
    "clusters_ward1 = collections.defaultdict(list)\n",
    " \n",
    "for idx, label in enumerate(model.labels_):\n",
    "    clusters_ward1[label].append(idx)\n",
    "    \n",
    "for i in range(len(clusters_ward1)):\n",
    "    print(\"Group\", i)\n",
    "    print(df.loc[clusters_ward1[i], ['question']].to_string(header=False))\n",
    "    print(\"====================\")"
   ]
  },
  {
   "cell_type": "code",
   "execution_count": 20,
   "metadata": {
    "hidden": true
   },
   "outputs": [],
   "source": [
    "dist = 1 - cosine_similarity(X_w2v_pre)\n",
    "linkage_matrix = ward(dist) # define the linkage_matrix using ward clustering pre-computed distances\n",
    "# plot_dendrogram(linkage_matrix, 'ward_clusters_pre.png')"
   ]
  },
  {
   "cell_type": "code",
   "execution_count": 21,
   "metadata": {
    "hidden": true
   },
   "outputs": [
    {
     "name": "stdout",
     "output_type": "stream",
     "text": [
      "Group 0\n",
      "2   What are the duties of a call center representative?\n",
      "13  What does an inbound call center representative do? \n",
      "====================\n",
      "Group 1\n",
      "1   Why do you want to be a customer service representative? \n",
      "8   What does a customer service representative do?          \n",
      "15  Why do I want a customer service job?                    \n",
      "17  What do you need to be a customer service representative?\n",
      "24  Why do I want to be a customer service representative?   \n",
      "====================\n",
      "Group 2\n",
      "3   Is customer service a good job?        \n",
      "9   Is customer support a good job?        \n",
      "14  What is a customer service job?        \n",
      "28  What is a good customer service answer?\n",
      "====================\n",
      "Group 3\n",
      "19  What's the most important characteristic of a good customer support interaction *?\n",
      "21  What is the most important aspect in customer service?                            \n",
      "====================\n",
      "Group 4\n",
      "6   How would you describe good customer service?      \n",
      "7   What does customer service mean to you best answer?\n",
      "26  How would you describe customer service?           \n",
      "27  What does customer service mean to you answer?     \n",
      "29  How do you deliver good customer service examples? \n",
      "====================\n",
      "Group 5\n",
      "0   What are the qualities of a good customer service representative?\n",
      "11  What are the job duties of a customer service representative?    \n",
      "16  What are the benefits of being a customer service representative?\n",
      "22  What are the qualities of a good customer service representative?\n",
      "====================\n",
      "Group 6\n",
      "12  What is call center agent job description?\n",
      "====================\n",
      "Group 7\n",
      "10  What makes a good customer experience?\n",
      "====================\n",
      "Group 8\n",
      "4   What are the three most important characteristics of customer service and why?\n",
      "18  What are 3 important qualities of customer service?                           \n",
      "20  What are the characteristics and benefits of excellent customer service?      \n",
      "====================\n",
      "Group 9\n",
      "5   How can I be a good customer service representative?   \n",
      "23  How can I succeed as a customer service representative?\n",
      "25  How can I be a good customer service agent?            \n",
      "====================\n"
     ]
    }
   ],
   "source": [
    "model = AgglomerativeClustering(n_clusters=10, affinity='euclidean', linkage='ward')  \n",
    "model.fit_predict(X_w2v_pre)\n",
    "clusters_ward2 = collections.defaultdict(list)\n",
    " \n",
    "for idx, label in enumerate(model.labels_):\n",
    "    clusters_ward2[label].append(idx)\n",
    "    \n",
    "for i in range(len(clusters_ward2)):\n",
    "    print(\"Group\", i)\n",
    "    print(df.loc[clusters_ward2[i], ['question']].to_string(header=False))\n",
    "    print(\"====================\")"
   ]
  },
  {
   "cell_type": "markdown",
   "metadata": {
    "hidden": true
   },
   "source": [
    "**It looks that the hieraricical method with self-trained w2v vectors is the best**"
   ]
  },
  {
   "cell_type": "code",
   "execution_count": 1,
   "metadata": {
    "hidden": true
   },
   "outputs": [
    {
     "ename": "NameError",
     "evalue": "name 'clusters_ward1' is not defined",
     "output_type": "error",
     "traceback": [
      "\u001b[0;31m---------------------------------------------------------------------------\u001b[0m",
      "\u001b[0;31mNameError\u001b[0m                                 Traceback (most recent call last)",
      "\u001b[0;32m<ipython-input-1-1d87ec7cb094>\u001b[0m in \u001b[0;36m<module>\u001b[0;34m\u001b[0m\n\u001b[0;32m----> 1\u001b[0;31m \u001b[0mclusters_ward1\u001b[0m\u001b[0;34m\u001b[0m\u001b[0;34m\u001b[0m\u001b[0m\n\u001b[0m",
      "\u001b[0;31mNameError\u001b[0m: name 'clusters_ward1' is not defined"
     ]
    }
   ],
   "source": [
    "clusters_ward1"
   ]
  },
  {
   "cell_type": "markdown",
   "metadata": {
    "code_folding": []
   },
   "source": [
    "## Generate output using the best-performed algo "
   ]
  },
  {
   "cell_type": "code",
   "execution_count": 13,
   "metadata": {},
   "outputs": [
    {
     "name": "stdout",
     "output_type": "stream",
     "text": [
      "Group 0\n",
      "10  Where does a software engineer work?\n",
      "23  Who can be a software engineer?     \n",
      "====================\n",
      "Group 1\n",
      "6   What skills do you need to be a software engineer?        \n",
      "21  What certifications do you need to be a software engineer?\n",
      "26  Can you be a software engineer without a degree?          \n",
      "27  What do you need to know as a software engineer?          \n",
      "====================\n",
      "Group 2\n",
      "2   Is a software engineer an engineer?           \n",
      "11  Is software engineer a real engineer?         \n",
      "12  Is software engineering an engineering degree?\n",
      "13  Is programming an engineer?                   \n",
      "14  Is software engineering a type of engineering?\n",
      "====================\n",
      "Group 3\n",
      "9   What is a software engineer job like?\n",
      "17  Is a software engineer a good job?   \n",
      "====================\n",
      "Group 4\n",
      "1   What exactly does a software engineer do?               \n",
      "7   What does a software engineer do?                       \n",
      "8   What is the main work of software engineer?             \n",
      "22  What is the minimum qualification for software engineer?\n",
      "====================\n",
      "Group 5\n",
      "5   Can anyone be a software engineer?\n",
      "16  Can anyone be a software engineer?\n",
      "20  Can anyone be a software engineer?\n",
      "====================\n",
      "Group 6\n",
      "0   What is required to be a software engineer?             \n",
      "4   What is the requirement to be a software engineer?      \n",
      "19  What are the requirements to become a software engineer?\n",
      "24  What are the requirements to become a software engineer?\n",
      "====================\n",
      "Group 7\n",
      "28  What does software development require?                 \n",
      "29  What do you need to know to become a software developer?\n",
      "====================\n",
      "Group 8\n",
      "3   Is it hard to be a software engineer?\n",
      "25  Is it hard to be a software engineer?\n",
      "====================\n",
      "Group 9\n",
      "15  Is it difficult to become a software engineer?\n",
      "18  Is it worth becoming a software engineer?     \n",
      "====================\n"
     ]
    }
   ],
   "source": [
    "import string\n",
    "import collections\n",
    " \n",
    "from nltk import word_tokenize\n",
    "from nltk.stem import PorterStemmer\n",
    "from nltk.corpus import stopwords\n",
    "from pprint import pprint\n",
    "from gensim.models import Word2Vec\n",
    "\n",
    "\n",
    "def process_text(text, stem=True):\n",
    "    text = text.translate(str.maketrans('', '', string.punctuation))\n",
    "    tokens = word_tokenize(text)\n",
    "    stop_words=set(stopwords.words('english'))\n",
    "    \n",
    "    tokens = [x for x in tokens if x not in stop_words]\n",
    "    \n",
    "    if stem:\n",
    "        stemmer = PorterStemmer()\n",
    "        tokens = [stemmer.stem(t) for t in tokens]\n",
    "        \n",
    "    return tokens\n",
    "\n",
    "\n",
    "questions = list(df['question'])\n",
    "questions_tokens = [process_text(x) for x in questions]\n",
    "model = Word2Vec(questions_tokens, min_count=1)\n",
    "# one extra step for moving from word level to sentence level.\n",
    "def sent_vectorizer(sent, model):\n",
    "    sent_vec = []\n",
    "    numw = 0\n",
    "    for w in sent:\n",
    "        try:\n",
    "            if numw == 0:\n",
    "                sent_vec = model.wv[w]\n",
    "            else:\n",
    "                sent_vec = np.add(sent_vec, model.wv[w])\n",
    "            numw += 1\n",
    "        except:\n",
    "            pass\n",
    "    return np.asarray(sent_vec) / numw\n",
    "\n",
    "X_w2v = []\n",
    "for q in questions_tokens:\n",
    "    X_w2v.append(sent_vectorizer(q, model))\n",
    "    \n",
    "\n",
    "from scipy.cluster.hierarchy import ward, dendrogram\n",
    "from sklearn.metrics.pairwise import cosine_similarity\n",
    "from sklearn.cluster import AgglomerativeClustering\n",
    "\n",
    "model = AgglomerativeClustering(n_clusters=10, affinity='euclidean', linkage='ward')  \n",
    "model.fit_predict(X_w2v)\n",
    "clusters_ward1 = collections.defaultdict(list)\n",
    " \n",
    "for idx, label in enumerate(model.labels_):\n",
    "    clusters_ward1[label].append(idx)\n",
    "    \n",
    "for i in range(len(clusters_ward1)):\n",
    "    print(\"Group\", i)\n",
    "    print(df.loc[clusters_ward1[i], ['question']].to_string(header=False))\n",
    "    print(\"====================\")"
   ]
  },
  {
   "cell_type": "code",
   "execution_count": null,
   "metadata": {},
   "outputs": [],
   "source": []
  }
 ],
 "metadata": {
  "kernelspec": {
   "display_name": "Python 3",
   "language": "python",
   "name": "python3"
  },
  "language_info": {
   "codemirror_mode": {
    "name": "ipython",
    "version": 3
   },
   "file_extension": ".py",
   "mimetype": "text/x-python",
   "name": "python",
   "nbconvert_exporter": "python",
   "pygments_lexer": "ipython3",
   "version": "3.7.2"
  },
  "toc": {
   "base_numbering": 1,
   "nav_menu": {},
   "number_sections": true,
   "sideBar": true,
   "skip_h1_title": false,
   "title_cell": "Table of Contents",
   "title_sidebar": "Contents",
   "toc_cell": false,
   "toc_position": {},
   "toc_section_display": true,
   "toc_window_display": false
  }
 },
 "nbformat": 4,
 "nbformat_minor": 2
}
